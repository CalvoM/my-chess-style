{
 "cells": [
  {
   "cell_type": "markdown",
   "id": "64b73ba2-0560-476c-992e-e6488c47a970",
   "metadata": {},
   "source": [
    "# KNN implementation\n",
    "\n",
    "I would like to understand how KNN works under the hood. What better way than implementing the algorithm from scratch.\n",
    "\n",
    "To implement the KNN algorithm is:\n",
    "\n",
    "1. Calculate the euclidean distance of the points from neighbours.\n",
    "2. Get the neighbours for points.\n",
    "3. Make the prediction."
   ]
  },
  {
   "cell_type": "code",
   "execution_count": 59,
   "id": "9c996ced-7239-496f-8f79-771b149d2c65",
   "metadata": {},
   "outputs": [],
   "source": [
    "import math\n",
    "\n",
    "class KNN:\n",
    "    \"\"\"\n",
    "     Tests\n",
    "     >>> knn._get_euclidean_distance([3,4,0],[0,0,0])\n",
    "     5.0\n",
    "     >>> knn._get_euclidean_distance([3,4,0],[3,4,1])\n",
    "     0.0\n",
    "     >>> knn._get_euclidean_distance([2.7810836,2.550537003,0],[1.465489372,2.362125076,0])\n",
    "     1.3290173915275787\n",
    "     >>> dataset = [[2.7810836,2.550537003,0],[1.465489372,2.362125076,0],[3.396561688,4.400293529,0],[1.38807019,1.850220317,0],[3.06407232,3.005305973,0],[7.627531214,2.759262235,1],[5.332441248,2.088626775,1],[6.922596716,1.77106367,1],[8.675418651,-0.242068655,1],[7.673756466,3.508563011,1]]\n",
    "    >>> neighbours = knn._get_n_neighbours(dataset, dataset[0], 3)\n",
    "    >>> len(neighbours)\n",
    "    3\n",
    "    >>> neighbours[0] == [2.7810836, 2.550537003, 0]\n",
    "    True\n",
    "    >>> neighbours[1] == [3.06407232, 3.005305973, 0]\n",
    "    True\n",
    "    >>> neighbours[2] == [1.465489372, 2.362125076, 0]\n",
    "    True\n",
    "    \"\"\"\n",
    "    def __init__(self):\n",
    "        pass\n",
    "\n",
    "    def _get_euclidean_distance(self, point1: list[float], point2: list[float]) -> float:\n",
    "        \"\"\"returns the euclidean distance between points.\n",
    "        Args:\n",
    "        point1: list of reference features.\n",
    "        point2: list of features.\n",
    "        Return:\n",
    "        distance in float\n",
    "\n",
    "        Assumes that the last feature in the points is the result.\n",
    "        \"\"\"\n",
    "        distance: float = 0.0\n",
    "        for idx in range(len(point1) - 1):\n",
    "            distance+=(point1[idx]-point2[idx])**2\n",
    "        return math.sqrt(distance)\n",
    "    def _get_n_neighbours(self, train_data: list[list[float]], test_row:list[float], n_neighbours:int) -> list[float]:\n",
    "        \"\"\" get the closest n neighbours\n",
    "        Args:\n",
    "        train_data: list of features\n",
    "        test_row: features to test\n",
    "        n_neighbours: the number of closest neighbours to check.\n",
    "        \"\"\"\n",
    "        distances:list = list()\n",
    "        for train_row in train_data:\n",
    "            distance = self._get_euclidean_distance(test_row, train_row)\n",
    "            distances.append((train_row, distance))\n",
    "        distances.sort(key=lambda t:t[1])\n",
    "        return [distances[i][0] for i in range(n_neighbours)]\n",
    "    def predict(self, train_data: list[list[float]], test_row: list[float], n_neighbours:int) -> float:\n",
    "        pass\n",
    "        "
   ]
  },
  {
   "cell_type": "code",
   "execution_count": 60,
   "id": "00cbe9b6-71bd-4da7-aba6-d59cdf8b82a0",
   "metadata": {},
   "outputs": [
    {
     "name": "stdout",
     "output_type": "stream",
     "text": [
      "Trying:\n",
      "    knn._get_euclidean_distance([3,4,0],[0,0,0])\n",
      "Expecting:\n",
      "    5.0\n",
      "ok\n",
      "Trying:\n",
      "    knn._get_euclidean_distance([3,4,0],[3,4,1])\n",
      "Expecting:\n",
      "    0.0\n",
      "ok\n",
      "Trying:\n",
      "    knn._get_euclidean_distance([2.7810836,2.550537003,0],[1.465489372,2.362125076,0])\n",
      "Expecting:\n",
      "    1.3290173915275787\n",
      "ok\n",
      "Trying:\n",
      "    dataset = [[2.7810836,2.550537003,0],[1.465489372,2.362125076,0],[3.396561688,4.400293529,0],[1.38807019,1.850220317,0],[3.06407232,3.005305973,0],[7.627531214,2.759262235,1],[5.332441248,2.088626775,1],[6.922596716,1.77106367,1],[8.675418651,-0.242068655,1],[7.673756466,3.508563011,1]]\n",
      "Expecting nothing\n",
      "ok\n",
      "Trying:\n",
      "    neighbours = knn._get_n_neighbours(dataset, dataset[0], 3)\n",
      "Expecting nothing\n",
      "ok\n",
      "Trying:\n",
      "    len(neighbours)\n",
      "Expecting:\n",
      "    3\n",
      "ok\n",
      "Trying:\n",
      "    neighbours[0] == [2.7810836, 2.550537003, 0]\n",
      "Expecting:\n",
      "    True\n",
      "ok\n",
      "Trying:\n",
      "    neighbours[1] == [3.06407232, 3.005305973, 0]\n",
      "Expecting:\n",
      "    True\n",
      "ok\n",
      "Trying:\n",
      "    neighbours[2] == [1.465489372, 2.362125076, 0]\n",
      "Expecting:\n",
      "    True\n",
      "ok\n",
      "4 items had no tests:\n",
      "    __main__\n",
      "    __main__.KNN.__init__\n",
      "    __main__.KNN._get_euclidean_distance\n",
      "    __main__.KNN._get_n_neighbours\n",
      "\u001b[32m1 item passed all tests:\u001b[0m\n",
      " \u001b[32m  9 tests in __main__.KNN\u001b[0m\n",
      "9 tests in 5 items.\n",
      "\u001b[32m9 passed\u001b[0m.\n",
      "\u001b[1;32mTest passed.\u001b[0m\n"
     ]
    },
    {
     "data": {
      "text/plain": [
       "TestResults(failed=0, attempted=9)"
      ]
     },
     "execution_count": 60,
     "metadata": {},
     "output_type": "execute_result"
    }
   ],
   "source": [
    "import doctest\n",
    "doctest.testmod(extraglobs={'knn': KNN()},verbose=True)"
   ]
  },
  {
   "cell_type": "code",
   "execution_count": null,
   "id": "47ffa847-7b27-4499-9618-362a81978695",
   "metadata": {},
   "outputs": [],
   "source": []
  }
 ],
 "metadata": {
  "kernelspec": {
   "display_name": "Python 3 (ipykernel)",
   "language": "python",
   "name": "python3"
  },
  "language_info": {
   "codemirror_mode": {
    "name": "ipython",
    "version": 3
   },
   "file_extension": ".py",
   "mimetype": "text/x-python",
   "name": "python",
   "nbconvert_exporter": "python",
   "pygments_lexer": "ipython3",
   "version": "3.13.3"
  }
 },
 "nbformat": 4,
 "nbformat_minor": 5
}
